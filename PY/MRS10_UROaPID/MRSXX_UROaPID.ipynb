{
 "cells": [
  {
   "cell_type": "code",
   "execution_count": 1,
   "metadata": {},
   "outputs": [],
   "source": [
    "%load_ext autoreload\n",
    "%autoreload"
   ]
  },
  {
   "cell_type": "markdown",
   "metadata": {},
   "source": [
    "# Vytvorenie grafov do textu"
   ]
  },
  {
   "cell_type": "code",
   "execution_count": 2,
   "metadata": {},
   "outputs": [],
   "source": [
    "import numpy as np\n",
    "\n",
    "import matplotlib.pyplot as plt\n",
    "\n",
    "from scipy.integrate import odeint\n",
    "\n",
    "\n",
    "import sys\n",
    "sys.path.append('../celljobs/')\n",
    "sys.path.append('../figjobs/')\n",
    "\n",
    "from figFcns_TeX import *\n"
   ]
  },
  {
   "cell_type": "markdown",
   "metadata": {},
   "source": [
    "### Funkcie:"
   ]
  },
  {
   "cell_type": "code",
   "execution_count": 3,
   "metadata": {},
   "outputs": [],
   "source": [
    "def fcn_LTIS(x, t, A, b, u):\n",
    "\n",
    "    dotx = np.matmul(A, x) + np.matmul(b, u)\n",
    "\n",
    "    return dotx"
   ]
  },
  {
   "cell_type": "code",
   "execution_count": 4,
   "metadata": {},
   "outputs": [],
   "source": [
    "def fcn_simSch(t_start, T_s, finalIndex, sig_setpoint):\n",
    "\n",
    "\n",
    "    #----------------------------------------------------\n",
    "    # Alokacia casoveho vektora\n",
    "\n",
    "    t_log = np.zeros([finalIndex, 1])\n",
    "    t_log[0,:] = t_start\n",
    "\n",
    "    #-----------------------------------------\n",
    "    # Zaciatocne hodnoty signalov\n",
    "\n",
    "    x_0 = np.zeros(b.shape[0])\n",
    "\n",
    "    y_0 = np.dot(c.T, x_0.reshape(-1,1))\n",
    "\n",
    "    e_0 = sig_setpoint[0,:] - y_0\n",
    "\n",
    "    u_0 = par_P * e_0 + 0 + 0\n",
    "\n",
    "\n",
    "    #-----------------------------------------\n",
    "    # Alokacia poli pre zapis signalov (a zapisanie zaciatocnych podmienok)\n",
    "\n",
    "\n",
    "    x_log = np.zeros([finalIndex, len(x_0)])\n",
    "    x_log[0,:] = x_0\n",
    "\n",
    "    y_log = np.zeros([finalIndex, 1])\n",
    "    y_log[0,:] = y_0\n",
    "\n",
    "\n",
    "\n",
    "    #-------------\n",
    "\n",
    "    e_log = np.zeros([finalIndex, 1])\n",
    "    e_log[0,:] = e_0\n",
    "\n",
    "    int_e_log = np.zeros([finalIndex, 1])\n",
    "    int_e_log[0,:] = 0\n",
    "\n",
    "    der_e_log = np.zeros([finalIndex, 1])\n",
    "    der_e_log[0,:] = 0\n",
    "\n",
    "    u_log = np.zeros([finalIndex, 1])\n",
    "    u_log[0,:] = u_0\n",
    "\n",
    "\n",
    "    #----------------------------------------------------\n",
    "\n",
    "\n",
    "    timespan = np.zeros(2)\n",
    "    for idx in range(1, int(finalIndex)):\n",
    "\n",
    "        timespan[0] = t_log[idx-1,:]\n",
    "        timespan[1] = t_log[idx-1,:] + T_s\n",
    "\n",
    "        t_log[idx,:] = timespan[-1]\n",
    "\n",
    "        #-----------------------------------------\n",
    "        # Riadeny system\n",
    "\n",
    "        odeOut = odeint(fcn_LTIS,\n",
    "                        x_log[idx-1,:],\n",
    "                        timespan,\n",
    "                        args=(A, b, u_log[idx-1,:])\n",
    "                        )\n",
    "\n",
    "        x_log[idx,:] = odeOut[-1,:]\n",
    "\n",
    "        y_log[idx,:] = np.dot(c.T, x_log[idx,:].reshape(-1,1))\n",
    "\n",
    "\n",
    "        #-----------------------------------------\n",
    "        # Riadiaci system\n",
    "\n",
    "        e_log[idx,:] = sig_setpoint[idx,:] - y_log[idx,:]\n",
    "\n",
    "        der_e_log[idx,:] = (e_log[idx,:] - e_log[idx-1,:]) / T_s\n",
    "\n",
    "        int_e_log[idx,:] = int_e_log[idx-1,:] + e_log[idx,:] * T_s\n",
    "\n",
    "        u_log[idx,:] = par_P * e_log[idx,:] + par_I * int_e_log[idx,:]  + par_D * der_e_log[idx,:]\n",
    "\n",
    "\n",
    "\n",
    "\n",
    "\n",
    "\n",
    "    return [t_log, x_log, y_log, u_log, e_log, der_e_log, int_e_log]\n",
    "\n"
   ]
  },
  {
   "cell_type": "markdown",
   "metadata": {},
   "source": [
    "### prikl_01a"
   ]
  },
  {
   "cell_type": "code",
   "execution_count": 6,
   "metadata": {},
   "outputs": [
    {
     "name": "stderr",
     "output_type": "stream",
     "text": [
      "C:\\Users\\MT\\AppData\\Local\\Temp\\ipykernel_22108\\495973364.py:55: DeprecationWarning: Conversion of an array with ndim > 0 to a scalar is deprecated, and will error in future. Ensure you extract a single element from your array before performing this operation. (Deprecated NumPy 1.25.)\n",
      "  timespan[0] = t_log[idx-1,:]\n",
      "C:\\Users\\MT\\AppData\\Local\\Temp\\ipykernel_22108\\495973364.py:56: DeprecationWarning: Conversion of an array with ndim > 0 to a scalar is deprecated, and will error in future. Ensure you extract a single element from your array before performing this operation. (Deprecated NumPy 1.25.)\n",
      "  timespan[1] = t_log[idx-1,:] + T_s\n"
     ]
    }
   ],
   "source": [
    "sim_t_start = 0\n",
    "sim_t_final = 10\n",
    "sim_T_s = 0.001\n",
    "sim_finalIndex = int(((sim_t_final - sim_t_start)/sim_T_s) + 1)\n",
    "\n",
    "sig_setpoint = np.ones([sim_finalIndex, 1])\n",
    "\n",
    "#-----------------------------------------\n",
    "# Parametre riadeneho systemu\n",
    "\n",
    "A = np.array([[-1]])\n",
    "b = np.array([[1]])\n",
    "c = np.array([[1]])\n",
    "\n",
    "#-----------------------------------------\n",
    "# Parametre riadiaceho systemu\n",
    "\n",
    "par_P = 1\n",
    "par_I = 0\n",
    "par_D = 0\n",
    "\n",
    "#-----------------------------------------\n",
    "\n",
    "t_log, x_log, y_log, u_log, e_log, der_e_log, int_e_log, = fcn_simSch(sim_t_start, sim_T_s, sim_finalIndex, sig_setpoint)\n",
    "\n",
    "#-----------------------------------------\n",
    "\n",
    "figSaveDir = '../fig/'\n",
    "figName = 'MRS10_prikl_01a'\n",
    "figNameNum = 0\n",
    "exec(open('./figjobs/figsc_01.py', encoding='utf-8').read())"
   ]
  },
  {
   "cell_type": "markdown",
   "metadata": {},
   "source": [
    "### prikl_02a"
   ]
  },
  {
   "cell_type": "code",
   "execution_count": 7,
   "metadata": {},
   "outputs": [
    {
     "name": "stderr",
     "output_type": "stream",
     "text": [
      "C:\\Users\\MT\\AppData\\Local\\Temp\\ipykernel_22108\\495973364.py:55: DeprecationWarning: Conversion of an array with ndim > 0 to a scalar is deprecated, and will error in future. Ensure you extract a single element from your array before performing this operation. (Deprecated NumPy 1.25.)\n",
      "  timespan[0] = t_log[idx-1,:]\n",
      "C:\\Users\\MT\\AppData\\Local\\Temp\\ipykernel_22108\\495973364.py:56: DeprecationWarning: Conversion of an array with ndim > 0 to a scalar is deprecated, and will error in future. Ensure you extract a single element from your array before performing this operation. (Deprecated NumPy 1.25.)\n",
      "  timespan[1] = t_log[idx-1,:] + T_s\n"
     ]
    }
   ],
   "source": [
    "\n",
    "sim_t_start = 0\n",
    "sim_t_final = 20\n",
    "sim_T_s = 0.001\n",
    "sim_finalIndex = int(((sim_t_final - sim_t_start)/sim_T_s) + 1)\n",
    "\n",
    "\n",
    "sig_setpoint = np.ones([sim_finalIndex, 1])\n",
    "\n",
    "#-----------------------------------------\n",
    "# Parametre riadeneho systemu\n",
    "\n",
    "b0 = 1/10\n",
    "a0 = 1/10\n",
    "\n",
    "A = np.array([[-a0]])\n",
    "b = np.array([[1]])\n",
    "c = np.array([[b0]])\n",
    "\n",
    "#-----------------------------------------\n",
    "# Parametre riadiaceho systemu\n",
    "\n",
    "par_P = 15\n",
    "par_I = 1\n",
    "par_D = 0\n",
    "\n",
    "#-----------------------------------------\n",
    "\n",
    "t_log, x_log, y_log, u_log, e_log, der_e_log, int_e_log, = fcn_simSch(sim_t_start, sim_T_s, sim_finalIndex, sig_setpoint)\n",
    "\n",
    "#-----------------------------------------\n",
    "\n",
    "figSaveDir = '../fig/'\n",
    "figName = 'MRS10_prikl_02a'\n",
    "figNameNum = 0\n",
    "exec(open('./figjobs/figsc_01.py', encoding='utf-8').read())\n"
   ]
  },
  {
   "cell_type": "markdown",
   "metadata": {},
   "source": [
    "### prikl_02b"
   ]
  },
  {
   "cell_type": "code",
   "execution_count": 8,
   "metadata": {},
   "outputs": [
    {
     "name": "stderr",
     "output_type": "stream",
     "text": [
      "C:\\Users\\MT\\AppData\\Local\\Temp\\ipykernel_22108\\495973364.py:55: DeprecationWarning: Conversion of an array with ndim > 0 to a scalar is deprecated, and will error in future. Ensure you extract a single element from your array before performing this operation. (Deprecated NumPy 1.25.)\n",
      "  timespan[0] = t_log[idx-1,:]\n",
      "C:\\Users\\MT\\AppData\\Local\\Temp\\ipykernel_22108\\495973364.py:56: DeprecationWarning: Conversion of an array with ndim > 0 to a scalar is deprecated, and will error in future. Ensure you extract a single element from your array before performing this operation. (Deprecated NumPy 1.25.)\n",
      "  timespan[1] = t_log[idx-1,:] + T_s\n"
     ]
    }
   ],
   "source": [
    "\n",
    "sim_t_start = 0\n",
    "sim_t_final = 40\n",
    "sim_T_s = 0.001\n",
    "sim_finalIndex = int(((sim_t_final - sim_t_start)/sim_T_s) + 1)\n",
    "\n",
    "\n",
    "sig_setpoint = np.ones([sim_finalIndex, 1])\n",
    "\n",
    "#-----------------------------------------\n",
    "# Parametre riadeneho systemu\n",
    "\n",
    "b0 = 1/10\n",
    "a0 = 1/10\n",
    "\n",
    "A = np.array([[-a0]])\n",
    "b = np.array([[1]])\n",
    "c = np.array([[b0]])\n",
    "\n",
    "#-----------------------------------------\n",
    "# Parametre riadiaceho systemu\n",
    "\n",
    "par_P = 2\n",
    "par_I = 0.5\n",
    "par_D = 0\n",
    "\n",
    "#-----------------------------------------\n",
    "\n",
    "t_log, x_log, y_log, u_log, e_log, der_e_log, int_e_log, = fcn_simSch(sim_t_start, sim_T_s, sim_finalIndex, sig_setpoint)\n",
    "\n",
    "#-----------------------------------------\n",
    "\n",
    "figSaveDir = '../fig/'\n",
    "figName = 'MRS10_prikl_02b'\n",
    "figNameNum = 0\n",
    "exec(open('./figjobs/figsc_01.py', encoding='utf-8').read())\n"
   ]
  },
  {
   "cell_type": "markdown",
   "metadata": {},
   "source": [
    "### prikl_03a"
   ]
  },
  {
   "cell_type": "code",
   "execution_count": 9,
   "metadata": {},
   "outputs": [
    {
     "name": "stderr",
     "output_type": "stream",
     "text": [
      "C:\\Users\\MT\\AppData\\Local\\Temp\\ipykernel_22108\\495973364.py:55: DeprecationWarning: Conversion of an array with ndim > 0 to a scalar is deprecated, and will error in future. Ensure you extract a single element from your array before performing this operation. (Deprecated NumPy 1.25.)\n",
      "  timespan[0] = t_log[idx-1,:]\n",
      "C:\\Users\\MT\\AppData\\Local\\Temp\\ipykernel_22108\\495973364.py:56: DeprecationWarning: Conversion of an array with ndim > 0 to a scalar is deprecated, and will error in future. Ensure you extract a single element from your array before performing this operation. (Deprecated NumPy 1.25.)\n",
      "  timespan[1] = t_log[idx-1,:] + T_s\n"
     ]
    }
   ],
   "source": [
    "sim_t_start = 0\n",
    "sim_t_final = 2\n",
    "sim_T_s = 0.001\n",
    "sim_finalIndex = int(((sim_t_final - sim_t_start)/sim_T_s) + 1)\n",
    "\n",
    "\n",
    "sig_setpoint = np.ones([sim_finalIndex, 1])\n",
    "\n",
    "#-----------------------------------------\n",
    "# Parametre riadeneho systemu\n",
    "\n",
    "b0 = 1\n",
    "a0 = 0\n",
    "# a1 = 1\n",
    "\n",
    "A = np.array([[-a0]])\n",
    "b = np.array([[1]])\n",
    "c = np.array([[b0]])\n",
    "\n",
    "#-----------------------------------------\n",
    "# Parametre riadiaceho systemu\n",
    "\n",
    "par_P = 10\n",
    "par_I = 1\n",
    "par_D = 0\n",
    "\n",
    "#-----------------------------------------\n",
    "\n",
    "t_log, x_log, y_log, u_log, e_log, der_e_log, int_e_log, = fcn_simSch(sim_t_start, sim_T_s, sim_finalIndex, sig_setpoint)\n",
    "\n",
    "#-----------------------------------------\n",
    "\n",
    "figSaveDir = '../fig/'\n",
    "figName = 'MRS10_prikl_03a'\n",
    "figNameNum = 0\n",
    "exec(open('./figjobs/figsc_01.py', encoding='utf-8').read())\n"
   ]
  },
  {
   "cell_type": "markdown",
   "metadata": {},
   "source": [
    "### prikl_03b"
   ]
  },
  {
   "cell_type": "code",
   "execution_count": 10,
   "metadata": {},
   "outputs": [
    {
     "name": "stderr",
     "output_type": "stream",
     "text": [
      "C:\\Users\\MT\\AppData\\Local\\Temp\\ipykernel_22108\\495973364.py:55: DeprecationWarning: Conversion of an array with ndim > 0 to a scalar is deprecated, and will error in future. Ensure you extract a single element from your array before performing this operation. (Deprecated NumPy 1.25.)\n",
      "  timespan[0] = t_log[idx-1,:]\n",
      "C:\\Users\\MT\\AppData\\Local\\Temp\\ipykernel_22108\\495973364.py:56: DeprecationWarning: Conversion of an array with ndim > 0 to a scalar is deprecated, and will error in future. Ensure you extract a single element from your array before performing this operation. (Deprecated NumPy 1.25.)\n",
      "  timespan[1] = t_log[idx-1,:] + T_s\n"
     ]
    }
   ],
   "source": [
    "sim_t_start = 0\n",
    "sim_t_final = 10\n",
    "sim_T_s = 0.001\n",
    "sim_finalIndex = int(((sim_t_final - sim_t_start)/sim_T_s) + 1)\n",
    "\n",
    "\n",
    "sig_setpoint = np.ones([sim_finalIndex, 1])\n",
    "\n",
    "#-----------------------------------------\n",
    "# Parametre riadeneho systemu\n",
    "\n",
    "b0 = 1\n",
    "a0 = 0\n",
    "# a1 = 1\n",
    "\n",
    "A = np.array([[-a0]])\n",
    "b = np.array([[1]])\n",
    "c = np.array([[b0]])\n",
    "\n",
    "#-----------------------------------------\n",
    "# Parametre riadiaceho systemu\n",
    "\n",
    "par_P = 2\n",
    "par_I = 1\n",
    "par_D = 0\n",
    "\n",
    "#-----------------------------------------\n",
    "\n",
    "t_log, x_log, y_log, u_log, e_log, der_e_log, int_e_log, = fcn_simSch(sim_t_start, sim_T_s, sim_finalIndex, sig_setpoint)\n",
    "\n",
    "#-----------------------------------------\n",
    "\n",
    "figSaveDir = '../fig/'\n",
    "figName = 'MRS10_prikl_03b'\n",
    "figNameNum = 0\n",
    "exec(open('./figjobs/figsc_01.py', encoding='utf-8').read())"
   ]
  },
  {
   "cell_type": "markdown",
   "metadata": {},
   "source": [
    "### prikl_03c"
   ]
  },
  {
   "cell_type": "code",
   "execution_count": 11,
   "metadata": {},
   "outputs": [
    {
     "name": "stdout",
     "output_type": "stream",
     "text": [
      "[-0.25+0.96824584j -0.25-0.96824584j]\n"
     ]
    },
    {
     "name": "stderr",
     "output_type": "stream",
     "text": [
      "C:\\Users\\MT\\AppData\\Local\\Temp\\ipykernel_22108\\495973364.py:55: DeprecationWarning: Conversion of an array with ndim > 0 to a scalar is deprecated, and will error in future. Ensure you extract a single element from your array before performing this operation. (Deprecated NumPy 1.25.)\n",
      "  timespan[0] = t_log[idx-1,:]\n",
      "C:\\Users\\MT\\AppData\\Local\\Temp\\ipykernel_22108\\495973364.py:56: DeprecationWarning: Conversion of an array with ndim > 0 to a scalar is deprecated, and will error in future. Ensure you extract a single element from your array before performing this operation. (Deprecated NumPy 1.25.)\n",
      "  timespan[1] = t_log[idx-1,:] + T_s\n"
     ]
    }
   ],
   "source": [
    "sim_t_start = 0\n",
    "sim_t_final = 20\n",
    "sim_T_s = 0.001\n",
    "sim_finalIndex = int(((sim_t_final - sim_t_start)/sim_T_s) + 1)\n",
    "\n",
    "\n",
    "sig_setpoint = np.ones([sim_finalIndex, 1])\n",
    "\n",
    "#-----------------------------------------\n",
    "# Parametre riadeneho systemu\n",
    "\n",
    "b0 = 1\n",
    "a0 = 0\n",
    "# a1 = 1\n",
    "\n",
    "A = np.array([[-a0]])\n",
    "b = np.array([[1]])\n",
    "c = np.array([[b0]])\n",
    "\n",
    "#-----------------------------------------\n",
    "# Parametre riadiaceho systemu\n",
    "\n",
    "par_P = 0.5\n",
    "par_I = 1\n",
    "par_D = 0\n",
    "\n",
    "print(np.roots([1, par_P, par_I]))\n",
    "\n",
    "#-----------------------------------------\n",
    "\n",
    "t_log, x_log, y_log, u_log, e_log, der_e_log, int_e_log, = fcn_simSch(sim_t_start, sim_T_s, sim_finalIndex, sig_setpoint)\n",
    "\n",
    "#-----------------------------------------\n",
    "\n",
    "figSaveDir = '../fig/'\n",
    "figName = 'MRS10_prikl_03c'\n",
    "figNameNum = 0\n",
    "exec(open('./figjobs/figsc_01.py', encoding='utf-8').read())"
   ]
  },
  {
   "cell_type": "markdown",
   "metadata": {},
   "source": [
    "### prikl_04"
   ]
  },
  {
   "cell_type": "code",
   "execution_count": 13,
   "metadata": {},
   "outputs": [
    {
     "name": "stderr",
     "output_type": "stream",
     "text": [
      "C:\\Users\\MT\\AppData\\Local\\Temp\\ipykernel_22108\\495973364.py:55: DeprecationWarning: Conversion of an array with ndim > 0 to a scalar is deprecated, and will error in future. Ensure you extract a single element from your array before performing this operation. (Deprecated NumPy 1.25.)\n",
      "  timespan[0] = t_log[idx-1,:]\n",
      "C:\\Users\\MT\\AppData\\Local\\Temp\\ipykernel_22108\\495973364.py:56: DeprecationWarning: Conversion of an array with ndim > 0 to a scalar is deprecated, and will error in future. Ensure you extract a single element from your array before performing this operation. (Deprecated NumPy 1.25.)\n",
      "  timespan[1] = t_log[idx-1,:] + T_s\n"
     ]
    }
   ],
   "source": [
    "sim_t_start = 0\n",
    "sim_t_final = 10\n",
    "sim_T_s = 0.001\n",
    "sim_finalIndex = int(((sim_t_final - sim_t_start)/sim_T_s) + 1)\n",
    "\n",
    "\n",
    "\n",
    "sig_setpoint = np.ones([sim_finalIndex, 1])\n",
    "\n",
    "\n",
    "#-----------------------------------------\n",
    "# Parametre riadeneho systemu\n",
    "\n",
    "par_K = 1\n",
    "par_T = 1\n",
    "\n",
    "A = np.array([[-1/par_T]])\n",
    "b = np.array([[par_K/par_T]])\n",
    "c = np.array([[1]])\n",
    "\n",
    "#-----------------------------------------\n",
    "# Parametre riadiaceho systemu\n",
    "\n",
    "par_lambda = 1\n",
    "\n",
    "par_P = 1/(par_K*par_lambda)\n",
    "par_I = 1/(par_K*par_T*par_lambda)\n",
    "par_D = 0\n",
    "\n",
    "#---------\n",
    "\n",
    "t_log, x_log, y_log, u_log, e_log, der_e_log, int_e_log, = fcn_simSch(sim_t_start, sim_T_s, sim_finalIndex, sig_setpoint)\n",
    "\n",
    "t_log_setpoint = t_log\n",
    "\n",
    "results01 = [t_log, x_log, y_log, u_log, e_log, der_e_log, int_e_log, par_lambda]\n",
    "\n",
    "#---------------\n",
    "\n",
    "par_lambda = 0.5\n",
    "\n",
    "par_P = 1/(par_K*par_lambda)\n",
    "par_I = 1/(par_K*par_T*par_lambda)\n",
    "par_D = 0\n",
    "\n",
    "#---------\n",
    "\n",
    "t_log, x_log, y_log, u_log, e_log, der_e_log, int_e_log, = fcn_simSch(sim_t_start, sim_T_s, sim_finalIndex, sig_setpoint)\n",
    "\n",
    "results02 = [t_log, x_log, y_log, u_log, e_log, der_e_log, int_e_log, par_lambda]\n",
    "\n",
    "\n",
    "#---------------\n",
    "\n",
    "par_lambda = 1.5\n",
    "\n",
    "par_P = 1/(par_K*par_lambda)\n",
    "par_I = 1/(par_K*par_T*par_lambda)\n",
    "par_D = 0\n",
    "\n",
    "#---------\n",
    "\n",
    "t_log, x_log, y_log, u_log, e_log, der_e_log, int_e_log, = fcn_simSch(sim_t_start, sim_T_s, sim_finalIndex, sig_setpoint)\n",
    "\n",
    "results03 = [t_log, x_log, y_log, u_log, e_log, der_e_log, int_e_log, par_lambda]\n",
    "\n",
    "\n",
    "\n",
    "\n",
    "\n",
    "\n",
    "#-----------------------------------------\n",
    "\n",
    "figSaveDir = '../fig/'\n",
    "figName = 'MRS10_prikl_04'\n",
    "figNameNum = 0\n",
    "exec(open('./figjobs/figsc_comp3.py', encoding='utf-8').read())\n",
    "\n",
    "\n"
   ]
  },
  {
   "cell_type": "markdown",
   "metadata": {},
   "source": [
    "### prikl_05"
   ]
  },
  {
   "cell_type": "code",
   "execution_count": 14,
   "metadata": {},
   "outputs": [
    {
     "name": "stdout",
     "output_type": "stream",
     "text": [
      "5.952380952380952\n",
      "0.8937508937508937\n"
     ]
    },
    {
     "name": "stderr",
     "output_type": "stream",
     "text": [
      "C:\\Users\\MT\\AppData\\Local\\Temp\\ipykernel_22108\\495973364.py:55: DeprecationWarning: Conversion of an array with ndim > 0 to a scalar is deprecated, and will error in future. Ensure you extract a single element from your array before performing this operation. (Deprecated NumPy 1.25.)\n",
      "  timespan[0] = t_log[idx-1,:]\n",
      "C:\\Users\\MT\\AppData\\Local\\Temp\\ipykernel_22108\\495973364.py:56: DeprecationWarning: Conversion of an array with ndim > 0 to a scalar is deprecated, and will error in future. Ensure you extract a single element from your array before performing this operation. (Deprecated NumPy 1.25.)\n",
      "  timespan[1] = t_log[idx-1,:] + T_s\n"
     ]
    }
   ],
   "source": [
    "\n",
    "sim_t_start = 0\n",
    "sim_t_final = 20\n",
    "sim_T_s = 0.1\n",
    "sim_finalIndex = int(((sim_t_final - sim_t_start)/sim_T_s) + 1)\n",
    "\n",
    "\n",
    "\n",
    "sig_setpoint = np.ones([sim_finalIndex, 1]) * 0.5\n",
    "\n",
    "\n",
    "#-----------------------------------------\n",
    "# Parametre riadeneho systemu\n",
    "\n",
    "par_K = 0.84\n",
    "par_T = 6.66\n",
    "\n",
    "A = np.array([[-1/par_T]])\n",
    "b = np.array([[par_K/par_T]])\n",
    "c = np.array([[1]])\n",
    "\n",
    "#-----------------------------------------\n",
    "# Parametre riadiaceho systemu\n",
    "\n",
    "par_lambda = 0.2\n",
    "\n",
    "par_P = 1/(par_K*par_lambda)\n",
    "par_I = 1/(par_K*par_T*par_lambda)\n",
    "par_D = 0\n",
    "\n",
    "print(par_P)\n",
    "print(par_I)\n",
    "#-----------------------------------------\n",
    "\n",
    "\n",
    "t_log, x_log, y_log, u_log, e_log, der_e_log, int_e_log, = fcn_simSch(sim_t_start, sim_T_s, sim_finalIndex, sig_setpoint)\n",
    "\n",
    "\n",
    "#-----------------------------------------\n",
    "\n",
    "figSaveDir = '../fig/'\n",
    "figName = 'MRS10_prikl_05'\n",
    "figNameNum = 0\n",
    "exec(open('./figjobs/figsc_01.py', encoding='utf-8').read())\n",
    "\n"
   ]
  },
  {
   "cell_type": "markdown",
   "metadata": {},
   "source": [
    "### prikl_06"
   ]
  },
  {
   "cell_type": "code",
   "execution_count": 15,
   "metadata": {},
   "outputs": [
    {
     "name": "stdout",
     "output_type": "stream",
     "text": [
      "1.0\n",
      "0.5000000000000001\n",
      "[-1.+1.j -1.-1.j]\n",
      "[-2.]\n"
     ]
    },
    {
     "name": "stderr",
     "output_type": "stream",
     "text": [
      "C:\\Users\\MT\\AppData\\Local\\Temp\\ipykernel_22108\\495973364.py:55: DeprecationWarning: Conversion of an array with ndim > 0 to a scalar is deprecated, and will error in future. Ensure you extract a single element from your array before performing this operation. (Deprecated NumPy 1.25.)\n",
      "  timespan[0] = t_log[idx-1,:]\n",
      "C:\\Users\\MT\\AppData\\Local\\Temp\\ipykernel_22108\\495973364.py:56: DeprecationWarning: Conversion of an array with ndim > 0 to a scalar is deprecated, and will error in future. Ensure you extract a single element from your array before performing this operation. (Deprecated NumPy 1.25.)\n",
      "  timespan[1] = t_log[idx-1,:] + T_s\n"
     ]
    }
   ],
   "source": [
    "\n",
    "\n",
    "sim_t_start = 0\n",
    "sim_t_final = 10\n",
    "sim_T_s = 0.001\n",
    "sim_finalIndex = int(((sim_t_final - sim_t_start)/sim_T_s) + 1)\n",
    "\n",
    "\n",
    "\n",
    "sig_setpoint = np.ones([sim_finalIndex, 1]) * 1\n",
    "\n",
    "\n",
    "#-----------------------------------------\n",
    "# Parametre riadeneho systemu\n",
    "\n",
    "par_K = 1\n",
    "par_T = 1\n",
    "\n",
    "A = np.array([[-1/par_T]])\n",
    "b = np.array([[par_K/par_T]])\n",
    "c = np.array([[1]])\n",
    "\n",
    "#-----------------------------------------\n",
    "# Parametre riadiaceho systemu\n",
    "\n",
    "par_b = np.sqrt(2)/2\n",
    "par_omega0 = (1 / (2*par_b*par_T)) * 2\n",
    "\n",
    "par_Ti = (2*par_b*par_omega0*par_T - 1)/(par_omega0**2 * par_T)\n",
    "\n",
    "par_P = (2*par_b*par_omega0*par_T - 1)/(par_K)\n",
    "par_I = par_P/par_Ti\n",
    "par_D = 0\n",
    "\n",
    "print(par_P)\n",
    "print(par_Ti)\n",
    "\n",
    "print(np.roots([1, (1 + par_K*par_P)/par_T, (par_K*par_P)/(par_T*par_Ti)]))\n",
    "print(np.roots([1, (1)/(par_Ti)]))\n",
    "#-----------------------------------------\n",
    "\n",
    "\n",
    "t_log, x_log, y_log, u_log, e_log, der_e_log, int_e_log, = fcn_simSch(sim_t_start, sim_T_s, sim_finalIndex, sig_setpoint)\n",
    "\n",
    "\n",
    "#-----------------------------------------\n",
    "\n",
    "figSaveDir = '../fig/'\n",
    "figName = 'MRS10_prikl_06'\n",
    "figNameNum = 0\n",
    "exec(open('./figjobs/figsc_01.py', encoding='utf-8').read())\n",
    "\n"
   ]
  },
  {
   "cell_type": "markdown",
   "metadata": {},
   "source": [
    "### prikl_07"
   ]
  },
  {
   "cell_type": "code",
   "execution_count": 16,
   "metadata": {},
   "outputs": [
    {
     "name": "stdout",
     "output_type": "stream",
     "text": [
      "0\n",
      "0.08937508937508937\n"
     ]
    },
    {
     "name": "stderr",
     "output_type": "stream",
     "text": [
      "C:\\Users\\MT\\AppData\\Local\\Temp\\ipykernel_22108\\495973364.py:55: DeprecationWarning: Conversion of an array with ndim > 0 to a scalar is deprecated, and will error in future. Ensure you extract a single element from your array before performing this operation. (Deprecated NumPy 1.25.)\n",
      "  timespan[0] = t_log[idx-1,:]\n",
      "C:\\Users\\MT\\AppData\\Local\\Temp\\ipykernel_22108\\495973364.py:56: DeprecationWarning: Conversion of an array with ndim > 0 to a scalar is deprecated, and will error in future. Ensure you extract a single element from your array before performing this operation. (Deprecated NumPy 1.25.)\n",
      "  timespan[1] = t_log[idx-1,:] + T_s\n"
     ]
    }
   ],
   "source": [
    "\n",
    "\n",
    "sim_t_start = 0\n",
    "sim_t_final = 60 * 2\n",
    "sim_T_s = 0.1\n",
    "sim_finalIndex = int(((sim_t_final - sim_t_start)/sim_T_s) + 1)\n",
    "\n",
    "\n",
    "\n",
    "sig_setpoint = np.ones([sim_finalIndex, 1]) * 0.5\n",
    "\n",
    "\n",
    "#-----------------------------------------\n",
    "# Parametre riadeneho systemu\n",
    "\n",
    "par_K = 0.84\n",
    "par_T = 6.66\n",
    "\n",
    "A = np.array([[-1/par_T]])\n",
    "b = np.array([[par_K/par_T]])\n",
    "c = np.array([[1]])\n",
    "\n",
    "#-----------------------------------------\n",
    "# Parametre riadiaceho systemu\n",
    "\n",
    "\n",
    "\n",
    "par_P = 0\n",
    "par_I = 1/(2*par_K*par_T)\n",
    "par_D = 0\n",
    "\n",
    "print(par_P)\n",
    "print(par_I)\n",
    "#-----------------------------------------\n",
    "\n",
    "\n",
    "t_log, x_log, y_log, u_log, e_log, der_e_log, int_e_log, = fcn_simSch(sim_t_start, sim_T_s, sim_finalIndex, sig_setpoint)\n",
    "\n",
    "\n",
    "#-----------------------------------------\n",
    "\n",
    "figSaveDir = '../fig/'\n",
    "figName = 'MRS10_prikl_07'\n",
    "figNameNum = 0\n",
    "exec(open('./figjobs/figsc_01.py', encoding='utf-8').read())"
   ]
  }
 ],
 "metadata": {
  "kernelspec": {
   "display_name": "base",
   "language": "python",
   "name": "python3"
  },
  "language_info": {
   "codemirror_mode": {
    "name": "ipython",
    "version": 3
   },
   "file_extension": ".py",
   "mimetype": "text/x-python",
   "name": "python",
   "nbconvert_exporter": "python",
   "pygments_lexer": "ipython3",
   "version": "3.11.5"
  }
 },
 "nbformat": 4,
 "nbformat_minor": 2
}
