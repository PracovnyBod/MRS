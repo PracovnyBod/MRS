{
 "cells": [
  {
   "cell_type": "code",
   "execution_count": 1,
   "id": "05a09888",
   "metadata": {},
   "outputs": [],
   "source": [
    "import os\n",
    "import sys\n",
    "sys.path.append('./misc/')\n",
    "\n",
    "import numpy as np\n",
    "from scipy.integrate import odeint"
   ]
  },
  {
   "cell_type": "markdown",
   "id": "0fe8c648",
   "metadata": {},
   "source": [
    "\n",
    "\n",
    "\n",
    "\n",
    "\n",
    "\n",
    "\n",
    "\n"
   ]
  },
  {
   "cell_type": "code",
   "execution_count": 2,
   "id": "6a1fbc93",
   "metadata": {},
   "outputs": [],
   "source": [
    "def fcn_LTIS(x, t, A, b, u):\n",
    "\n",
    "    dotx = np.matmul(A, x) + np.matmul(b, u)\n",
    "\n",
    "    return dotx"
   ]
  },
  {
   "cell_type": "code",
   "execution_count": 3,
   "id": "1e3d6859",
   "metadata": {},
   "outputs": [],
   "source": [
    "def fcn_simSch(t_start, T_s, finalIndex, sig_setpoint):\n",
    "\n",
    "    #----------------------------------------------------\n",
    "    # Alokacia casoveho vektora\n",
    "\n",
    "    t_log = np.zeros([finalIndex, 1])\n",
    "    t_log[0,:] = t_start\n",
    "\n",
    "    #-----------------------------------------\n",
    "    # Zaciatocne hodnoty signalov\n",
    "\n",
    "    x_0 = np.zeros(b.shape[0])\n",
    "\n",
    "    y_0 = np.dot(c.T, x_0.reshape(-1,1))\n",
    "\n",
    "    e_0 = sig_setpoint[0,:] - y_0\n",
    "\n",
    "    u_0 = par_P * e_0 + 0 + 0\n",
    "\n",
    "\n",
    "    #-----------------------------------------\n",
    "    # Alokacia poli pre zapis signalov (a zapisanie zaciatocnych podmienok)\n",
    "\n",
    "\n",
    "    x_log = np.zeros([finalIndex, len(x_0)])\n",
    "    x_log[0,:] = x_0\n",
    "\n",
    "    y_log = np.zeros([finalIndex, 1])\n",
    "    y_log[0,:] = y_0\n",
    "\n",
    "\n",
    "    #-------------\n",
    "\n",
    "    e_log = np.zeros([finalIndex, 1])\n",
    "    e_log[0,:] = e_0\n",
    "\n",
    "    int_e_log = np.zeros([finalIndex, 1])\n",
    "    int_e_log[0,:] = 0\n",
    "\n",
    "    der_e_log = np.zeros([finalIndex, 1])\n",
    "    der_e_log[0,:] = 0\n",
    "\n",
    "    u_log = np.zeros([finalIndex, 1])\n",
    "    u_log[0,:] = u_0\n",
    "\n",
    "\n",
    "    #----------------------------------------------------\n",
    "\n",
    "\n",
    "    timespan = np.zeros(2)\n",
    "    for idx in range(1, int(finalIndex)):\n",
    "\n",
    "        timespan[0] = t_log[idx-1,:]\n",
    "        timespan[1] = t_log[idx-1,:] + T_s\n",
    "\n",
    "        t_log[idx,:] = timespan[-1]\n",
    "\n",
    "        #-----------------------------------------\n",
    "        # Riadeny system\n",
    "\n",
    "        odeOut = odeint(fcn_LTIS,\n",
    "                        x_log[idx-1,:],\n",
    "                        timespan,\n",
    "                        args=(A, b, u_log[idx-1,:])\n",
    "                        )\n",
    "\n",
    "        x_log[idx,:] = odeOut[-1,:]\n",
    "\n",
    "        y_log[idx,:] = np.dot(c.T, x_log[idx,:].reshape(-1,1))\n",
    "\n",
    "\n",
    "        #-----------------------------------------\n",
    "        # Riadiaci system\n",
    "\n",
    "        e_log[idx,:] = sig_setpoint[idx,:] - y_log[idx,:]\n",
    "\n",
    "        der_e_log[idx,:] = (e_log[idx,:] - e_log[idx-1,:]) / T_s\n",
    "\n",
    "        int_e_log[idx,:] = int_e_log[idx-1,:] + e_log[idx,:] * T_s\n",
    "\n",
    "        u_log[idx,:] = par_P * e_log[idx,:] + par_I * int_e_log[idx,:]  + par_D * der_e_log[idx,:]\n",
    "\n",
    "\n",
    "    return [t_log, x_log, y_log, u_log, e_log, der_e_log, int_e_log]"
   ]
  },
  {
   "cell_type": "code",
   "execution_count": 4,
   "id": "67bf13f0",
   "metadata": {},
   "outputs": [],
   "source": [
    "sim_t_start = 0\n",
    "sim_t_final = 10\n",
    "sim_T_s = 0.001\n",
    "sim_finalIndex = int(((sim_t_final - sim_t_start)/sim_T_s) + 1)\n",
    "\n",
    "\n",
    "sig_setpoint = np.ones([sim_finalIndex, 1])\n",
    "\n",
    "\n",
    "#-----------------------------------------\n",
    "# Parametre riadeneho systemu\n",
    "\n",
    "A = np.array([[-1]])\n",
    "b = np.array([[1]])\n",
    "c = np.array([[1]])\n",
    "\n",
    "#-----------------------------------------\n",
    "# Parametre riadiaceho systemu\n",
    "\n",
    "par_P = 1\n",
    "par_I = 0\n",
    "par_D = 0\n",
    "\n",
    "#-----------------------------------------\n",
    "\n",
    "t_log, x_log, y_log, u_log, e_log, der_e_log, int_e_log, = fcn_simSch(sim_t_start, sim_T_s, sim_finalIndex, sig_setpoint)\n"
   ]
  },
  {
   "cell_type": "code",
   "execution_count": 5,
   "id": "877f4728",
   "metadata": {},
   "outputs": [
    {
     "data": {
      "text/plain": [
       "[<matplotlib.lines.Line2D at 0x1a4360fb4c8>]"
      ]
     },
     "execution_count": 5,
     "metadata": {},
     "output_type": "execute_result"
    },
    {
     "data": {
      "image/png": "[encoded data removed]",
      "text/plain": [
       "<Figure size 432x288 with 1 Axes>"
      ]
     },
     "metadata": {
      "needs_background": "light"
     },
     "output_type": "display_data"
    }
   ],
   "source": [
    "import matplotlib.pyplot as plt\n",
    "plt.plot(t_log, y_log)"
   ]
  }
 ],
 "metadata": {
  "kernelspec": {
   "display_name": "Python 3",
   "language": "python",
   "name": "python3"
  },
  "language_info": {
   "codemirror_mode": {
    "name": "ipython",
    "version": 3
   },
   "file_extension": ".py",
   "mimetype": "text/x-python",
   "name": "python",
   "nbconvert_exporter": "python",
   "pygments_lexer": "ipython3",
   "version": "3.7.10"
  }
 },
 "nbformat": 4,
 "nbformat_minor": 5
}
